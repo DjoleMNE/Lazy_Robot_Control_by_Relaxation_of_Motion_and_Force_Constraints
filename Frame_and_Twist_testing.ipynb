{
 "cells": [
  {
   "cell_type": "code",
   "execution_count": 4,
   "metadata": {},
   "outputs": [
    {
     "name": "stdout",
     "output_type": "stream",
     "text": [
      "testing\n",
      "TkAgg\n"
     ]
    }
   ],
   "source": [
    "from mpl_toolkits import mplot3d\n",
    "from mpl_toolkits.mplot3d import Axes3D\n",
    "from matplotlib.patches import FancyArrowPatch\n",
    "from mpl_toolkits.mplot3d import proj3d\n",
    "\n",
    "import numpy as np\n",
    "import sympy as sp\n",
    "import matplotlib\n",
    "import matplotlib.pyplot as plt\n",
    "# %matplotlib inline\n",
    "\n",
    "import matplotlib\n",
    "gui_env = ['TKAgg','GTKAgg','Qt4Agg','WXAgg']\n",
    "for gui in gui_env:\n",
    "    try:\n",
    "        print (\"testing\"), gui\n",
    "        matplotlib.use(gui,warn=False, force=True)\n",
    "        from matplotlib import pyplot as plt\n",
    "        break\n",
    "    except:\n",
    "        continue\n",
    "print (matplotlib.get_backend())\n",
    "matplotlib.use(\"Qt4Agg\")\n",
    "\n",
    "%matplotlib qt\n",
    "plt.rcParams['figure.dpi'] = 150 # default for me was 75\n",
    "\n",
    "\n",
    "class Arrow3D(FancyArrowPatch):\n",
    "    def __init__(self, xs, ys, zs, *args, **kwargs):\n",
    "        FancyArrowPatch.__init__(self, (0,0), (0,0), *args, **kwargs)\n",
    "        self._verts3d = xs, ys, zs\n",
    "\n",
    "    def draw(self, renderer):\n",
    "        xs3d, ys3d, zs3d = self._verts3d\n",
    "        xs, ys, zs = proj3d.proj_transform(xs3d, ys3d, zs3d, renderer.M)\n",
    "        self.set_positions((xs[0],ys[0]),(xs[1],ys[1]))\n",
    "        FancyArrowPatch.draw(self, renderer)"
   ]
  },
  {
   "cell_type": "code",
   "execution_count": 2,
   "metadata": {},
   "outputs": [],
   "source": [
    "alpha, beta, gamma = sp.symbols('alpha, beta, gamma')\n",
    "\n",
    "def calc_rotation(alpha, beta, gamma):\n",
    "    R_z = sp.Matrix([[sp.cos(alpha), -sp.sin(alpha),0],\n",
    "                [sp.sin(alpha), sp.cos(alpha),0],\n",
    "                [0,0,1]])\n",
    "    R_y = sp.Matrix([[sp.cos(beta), 0,sp.sin(beta)],\n",
    "                [0, 1,0],\n",
    "                [-sp.sin(beta),0,sp.cos(beta)]])\n",
    "    R_x = sp.Matrix([[1,0,0], \n",
    "                 [0, sp.cos(gamma), -sp.sin(gamma)],\n",
    "                [0, sp.sin(gamma), sp.cos(gamma)]])\n",
    "    \n",
    "    return R_z*R_y*R_x"
   ]
  },
  {
   "cell_type": "code",
   "execution_count": 5,
   "metadata": {},
   "outputs": [
    {
     "data": {
      "text/plain": [
       "Text(0.5, 0.92, 'Twist test')"
      ]
     },
     "execution_count": 5,
     "metadata": {},
     "output_type": "execute_result"
    }
   ],
   "source": [
    "### Create and visualize your sketch here###\n",
    "       \n",
    "figure = plt.figure(1, figsize=(10, 10))\n",
    "\n",
    "ax = figure.add_subplot(111, aspect='equal',projection='3d')\n",
    "\n",
    "\n",
    "axis_length = 1.0\n",
    "\n",
    "# world frame (plot line from (0,0) to (1,0))\n",
    "ax.plot([0., axis_length], \n",
    "        [0., 0.], \n",
    "        [0., 0.],  'blue')\n",
    "\n",
    "# plot line from (0,0) to (0,1))\n",
    "ax.plot([0., 0.], [0., axis_length], [0., 0.], 'blue')\n",
    "\n",
    "#plot Z axis\n",
    "ax.plot([0., 0.], [0., 0.], [0., axis_length], 'blue')\n",
    "\n",
    "\n",
    "position = np.array([1.0, 1.0, 1.0])\n",
    "#X axis\n",
    "ax.plot([position[0], position[0] +  axis_length], \n",
    "        [position[0], position[0]], \n",
    "        [position[0], position[0]],  'g')\n",
    "\n",
    "#Y axix\n",
    "ax.plot([position[0], position[0]], \n",
    "        [position[0], position[0] +  axis_length], \n",
    "        [position[0], position[0]],  'g')\n",
    "\n",
    "#Y axix\n",
    "ax.plot([position[0], position[0]], \n",
    "        [position[0], position[0]], \n",
    "        [position[2], position[2] +  axis_length],  'g')\n",
    "\n",
    "beta = np.deg2rad(45)\n",
    "R_y = np.array([[np.cos(beta),  0., np.sin(beta)], \n",
    "                [0.,  1., 0.], \n",
    "                [-np.sin(beta), 0., np.cos(beta)]])\n",
    "\n",
    "\n",
    "T_u_a = sp.Matrix([[0.866, -0.5, 0 ,11],\n",
    "                 [0.5,0.866,0,-1],\n",
    "                  [0,0,1,8],\n",
    "                  [0,0,0,1]])\n",
    "# #X axis\n",
    "# ax.plot([1.0, axis_length * R_y[0, 0]], \n",
    "#         [1.0, axis_length * R_y[1, 0]], \n",
    "#         [1.0, axis_length * R_y[2, 0]],  'g')\n",
    "\n",
    "# #Y axix\n",
    "# ax.plot([1.0, axis_length * R_y[0, 1]], \n",
    "#         [1.0, axis_length * R_y[1, 1]], \n",
    "#         [1.0, axis_length * R_y[2, 1]], 'g')\n",
    "\n",
    "# #Y axix\n",
    "# ax.plot([1.0, axis_length * R_y[0, 2]], \n",
    "#         [1.0, axis_length * R_y[1, 2]], \n",
    "#         [1.0, axis_length * R_y[2, 2]], 'g')\n",
    "\n",
    "#Plot the vector of position\n",
    "# a = Arrow3D([0., calculated[0]], [0.,  calculated[1]], \n",
    "#                 [0.,  calculated[2]], mutation_scale=20, \n",
    "#                 lw=3, arrowstyle=\"-|>\", color=\"r\")\n",
    "# ax.add_artist(a)\n",
    "# ax.scatter(calculated[0], calculated[1], calculated[2],  s=20)\n",
    "\n",
    "# Always label axes and title the plot\n",
    "# prepare the axes limits\n",
    "\n",
    "ax.set_xlim3d([-8, 8])\n",
    "ax.set_ylim3d([-8, 8]) \n",
    "ax.set_zlim3d([-8, 8])\n",
    "\n",
    "plt.axis('equal')\n",
    "plt.xlabel('x')\n",
    "plt.ylabel('y')\n",
    "plt.title('Twist test')\n",
    "# rotate the axes and update\n",
    "# ax.view_init(75, 75)\n",
    "# plt.show()\n"
   ]
  },
  {
   "cell_type": "code",
   "execution_count": null,
   "metadata": {},
   "outputs": [],
   "source": []
  },
  {
   "cell_type": "code",
   "execution_count": null,
   "metadata": {},
   "outputs": [],
   "source": []
  }
 ],
 "metadata": {
  "kernelspec": {
   "display_name": "Python 3",
   "language": "python",
   "name": "python3"
  },
  "language_info": {
   "codemirror_mode": {
    "name": "ipython",
    "version": 3
   },
   "file_extension": ".py",
   "mimetype": "text/x-python",
   "name": "python",
   "nbconvert_exporter": "python",
   "pygments_lexer": "ipython3",
   "version": "3.5.2"
  }
 },
 "nbformat": 4,
 "nbformat_minor": 2
}
